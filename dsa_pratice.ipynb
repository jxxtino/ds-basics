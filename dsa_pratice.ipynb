{
 "cells": [
  {
   "cell_type": "markdown",
   "metadata": {},
   "source": [
    "# Fibonacci Using Recursion\n"
   ]
  },
  {
   "cell_type": "code",
   "execution_count": 14,
   "metadata": {},
   "outputs": [],
   "source": [
    "counter = 0\n",
    "\n",
    "def fibonacci(value1, value2):\n",
    "    global counter\n",
    "    \n",
    "    nextFibo = value1 + value2\n",
    "    print(nextFibo)\n",
    "\n",
    "    value1 = value2\n",
    "    value2 = nextFibo\n",
    "\n",
    "    counter += 1\n",
    "\n",
    "    fibonacci(value1, value2)"
   ]
  },
  {
   "cell_type": "markdown",
   "metadata": {},
   "source": [
    "# Fibonacci Using For Loop"
   ]
  },
  {
   "cell_type": "code",
   "execution_count": 15,
   "metadata": {},
   "outputs": [],
   "source": [
    "value1 = 0\n",
    "value2 = 1\n",
    "\n",
    "for i in range(10):\n",
    "    nextFibo = value1 + value2\n",
    "    \n",
    "    # print(nextFibo)\n",
    "\n",
    "    value1 = value2\n",
    "    value2 = nextFibo\n"
   ]
  },
  {
   "cell_type": "markdown",
   "metadata": {},
   "source": [
    "# Fibonacci Using Nth Fibonacci Number (w recusion)\n"
   ]
  },
  {
   "cell_type": "code",
   "execution_count": 16,
   "metadata": {},
   "outputs": [],
   "source": [
    "def F(n):\n",
    "    if n <= 1:\n",
    "        return n\n",
    "    else:\n",
    "        return F(n-1)+F(n-2)\n",
    "\n",
    "# print(F(4))\n",
    "\n",
    "# Recursion Tree:\n",
    "    # F(4)\n",
    "    \n",
    "    # ├── F(3)\n",
    "    # │   ├── F(2)\n",
    "    # │   │   ├── F(1) → 1\n",
    "    # │   │   ├── F(0) → 0\n",
    "    # │   │   └── (F(2) = 1)\n",
    "    # │   ├── F(1) → 1\n",
    "    # │   └── (F(3) = 2)\n",
    "    \n",
    "    # ├── F(2)\n",
    "    # │   ├── F(1) → 1\n",
    "    # │   ├── F(0) → 0\n",
    "    # │   └── (F(2) = 1)\n",
    "    "
   ]
  },
  {
   "cell_type": "markdown",
   "metadata": {},
   "source": [
    "# Find The Lowest Value in an Array"
   ]
  },
  {
   "cell_type": "code",
   "execution_count": 17,
   "metadata": {},
   "outputs": [],
   "source": [
    "array = [5,4,5,4,8,3,3,5]\n",
    "minVal = array[0]\n",
    "\n",
    "for i in array:\n",
    "    if i < minVal:\n",
    "        minVal = i\n"
   ]
  },
  {
   "cell_type": "markdown",
   "metadata": {},
   "source": [
    "# Queue using Array"
   ]
  },
  {
   "cell_type": "code",
   "execution_count": 18,
   "metadata": {},
   "outputs": [],
   "source": [
    "class Queue:\n",
    "    def __init__(self):\n",
    "        self.queue = []\n",
    "\n",
    "    def enqueue(self,element):\n",
    "        self.queue.append(element)\n",
    "\n",
    "    def dequeue(self):\n",
    "        if self.isEmpty():\n",
    "            return \"Queue is empty\"\n",
    "        else:\n",
    "            self.queue.pop(0)\n",
    "\n",
    "    def peek(self):\n",
    "        if self.isEmpty():\n",
    "            return \"Queue is empty\"\n",
    "        else:\n",
    "            return self.queue[0]\n",
    "        \n",
    "    def isEmpty(self):\n",
    "        return len(self.queue) == 0\n",
    "    \n",
    "    def size(self):\n",
    "        return len(self.queue)\n",
    "    \n",
    "myQueue = Queue()"
   ]
  },
  {
   "cell_type": "markdown",
   "metadata": {},
   "source": [
    "---"
   ]
  },
  {
   "cell_type": "markdown",
   "metadata": {},
   "source": [
    "# Arrays"
   ]
  },
  {
   "cell_type": "markdown",
   "metadata": {},
   "source": [
    "## Two Pointer"
   ]
  },
  {
   "cell_type": "code",
   "execution_count": 49,
   "metadata": {},
   "outputs": [
    {
     "data": {
      "text/plain": [
       "'remmus stihortele'"
      ]
     },
     "execution_count": 49,
     "metadata": {},
     "output_type": "execute_result"
    }
   ],
   "source": [
    "## \"summer house\"\n",
    "\n",
    "class TwoPointer:\n",
    "    def reversedWords(self,string):\n",
    "        reversed_string = \"\"\n",
    "        left_pointer, right_pointer = 0, 0\n",
    "\n",
    "        while right_pointer < len(string):\n",
    "            if string[right_pointer] != \" \":\n",
    "                right_pointer += 1\n",
    "\n",
    "            else:\n",
    "                reversed_string += string[left_pointer:right_pointer+1][::-1]\n",
    "\n",
    "                right_pointer += 1\n",
    "                left_pointer = right_pointer\n",
    "\n",
    "        reversed_string += \" \"\n",
    "        reversed_string += string[left_pointer:right_pointer][::-1]\n",
    "        return reversed_string[1:]\n",
    "\n",
    "twopointer = TwoPointer()\n",
    "twopointer.reversedWords(\"summer eletrohits\")\n",
    "\n"
   ]
  }
 ],
 "metadata": {
  "kernelspec": {
   "display_name": "Python 3",
   "language": "python",
   "name": "python3"
  },
  "language_info": {
   "codemirror_mode": {
    "name": "ipython",
    "version": 3
   },
   "file_extension": ".py",
   "mimetype": "text/x-python",
   "name": "python",
   "nbconvert_exporter": "python",
   "pygments_lexer": "ipython3",
   "version": "3.12.4"
  }
 },
 "nbformat": 4,
 "nbformat_minor": 2
}
