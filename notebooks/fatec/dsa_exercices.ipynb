{
 "cells": [
  {
   "cell_type": "markdown",
   "metadata": {},
   "source": [
    "# Atividade 3"
   ]
  },
  {
   "cell_type": "markdown",
   "metadata": {},
   "source": [
    "## Filas (Queue)"
   ]
  },
  {
   "cell_type": "markdown",
   "metadata": {},
   "source": [
    "### 1) Implemente um algoritmo com uma estrutura de dados com 10 posições de números inteiros em que os elementos após serem inseridos podem mostrar sua ordem na forma de Fila ou Pilha."
   ]
  },
  {
   "cell_type": "code",
   "execution_count": 59,
   "metadata": {},
   "outputs": [
    {
     "name": "stdout",
     "output_type": "stream",
     "text": [
      "1 2 3 4 5 6 7 8 9 10 \n",
      "\n",
      "10\n",
      "9\n",
      "8\n",
      "7\n",
      "6\n",
      "5\n",
      "4\n",
      "3\n",
      "2\n",
      "1\n"
     ]
    }
   ],
   "source": [
    "\n",
    "class Structure:\n",
    "\n",
    "    def __init__(self):\n",
    "        self.data = [int(input(\"n: \")) for _ in range(10)]\n",
    "\n",
    "    def queue(self):\n",
    "        for n in self.data:\n",
    "            print(n, end=\" \")\n",
    "    \n",
    "    def stack(self):\n",
    "        for n in self.data[::-1]:\n",
    "            print(n)\n",
    "\n",
    "structure = Structure()\n",
    "structure.queue()\n",
    "print()\n",
    "print()\n",
    "structure.stack()"
   ]
  },
  {
   "cell_type": "markdown",
   "metadata": {},
   "source": [
    "### 2) Faça um algoritmo que crie uma Fila de 5 elementos do tipo inteiro, com os passos abaixo:\n",
    "- ler 5 valores e inserir na Fila\n",
    "- imprimir a Fila\n",
    "- achar o maior valor e mostrar\n",
    "- achar o menor valor e mostrar\n",
    "- mostrar a diferença entre a média e o maior valor\n"
   ]
  },
  {
   "cell_type": "code",
   "execution_count": 60,
   "metadata": {},
   "outputs": [
    {
     "name": "stdout",
     "output_type": "stream",
     "text": [
      "Fila:  [1, 2, 3, 4, 5]\n",
      "Maior Valor:  5\n",
      "Menor Valor:  1\n",
      "Diferença entre Média e Maior valor:  2.0\n"
     ]
    }
   ],
   "source": [
    "class Queue:\n",
    "\n",
    "    def __init__(self):\n",
    "        self.data = [int(input(\"n: \")) for _ in range(5)]\n",
    "    \n",
    "    def higher(self):\n",
    "        h = self.data[0]\n",
    "        for n in self.data:\n",
    "            if n > h:\n",
    "                h = n\n",
    "        return h\n",
    "\n",
    "    def lower(self):\n",
    "        l = self.data[0]\n",
    "        for n in self.data:\n",
    "            if n < l:\n",
    "                l = n\n",
    "        return l\n",
    "\n",
    "    def diff(self):\n",
    "        mean = 0\n",
    "        for n in self.data:\n",
    "            mean += n / len(self.data)\n",
    "        return self.higher() - mean\n",
    "    \n",
    "    def result(self):\n",
    "        print(\"Fila: \",self.data)\n",
    "        print(\"Maior Valor: \",self.higher())\n",
    "        print(\"Menor Valor: \",self.lower())\n",
    "        print(\"Diferença entre Média e Maior valor: \",self.diff())\n",
    "\n",
    "queue = Queue()\n",
    "queue.result()"
   ]
  },
  {
   "cell_type": "markdown",
   "metadata": {},
   "source": [
    "### 3) Escreva um algoritmo para implementar uma Fila Circular. O algoritmo irá realizar as seguintes ações:\n",
    "- aceitar 5 elementos na Fila\n",
    "- imprimir os 5 elementos inseridos em A\n",
    "- remover da Fila 2 elementos\n",
    "- imprimir os elementos restantes da opção C\n",
    "- Inserir 2 novos elementos na Fila\n",
    "- Imprimir os elementos da Fila, após a operação E\n"
   ]
  },
  {
   "cell_type": "code",
   "execution_count": null,
   "metadata": {},
   "outputs": [
    {
     "name": "stdout",
     "output_type": "stream",
     "text": [
      "queue: [10, 20, 30, 40]\n",
      "removido: 10\n",
      "removido: 20\n",
      "queue: [30, 40]\n",
      "queue: [30, 40, 60, 70]\n"
     ]
    }
   ],
   "source": [
    "class CircularQueue:\n",
    "\n",
    "    def __init__(self, s: int):\n",
    "        self.queue = [None] * s\n",
    "        self.front = self.rear = -1\n",
    "        self.size = s \n",
    "\n",
    "    def is_empty(self):\n",
    "        return self.front == -1\n",
    "    \n",
    "    def is_full(self):\n",
    "        return (self.rear + 1) % self.size == self.front\n",
    "    \n",
    "    def enqueue(self, n):\n",
    "        if self.is_full():\n",
    "            return print(\"is full\")\n",
    "        \n",
    "        if self.is_empty():  \n",
    "            self.front += 1  \n",
    "        \n",
    "        self.rear = (self.rear + 1) % self.size\n",
    "        self.queue[self.rear] = n\n",
    "\n",
    "    def dequeue(self):\n",
    "        if (self.is_empty()):\n",
    "            return print(\"is empty\")\n",
    "        \n",
    "        elem = self.queue[self.front]\n",
    "\n",
    "        if self.front == self.rear:\n",
    "            self.front = self.rear = -1\n",
    "        else:\n",
    "            self.front = (self.front + 1) % self.size\n",
    "\n",
    "        return print(\"removido:\",elem)\n",
    "    \n",
    "    def get_queue(self):\n",
    "        if self.is_empty():\n",
    "            return print(\"is empty\")\n",
    "        \n",
    "        elem = []\n",
    "        index = self.front\n",
    "\n",
    "        for _ in range(self.size):\n",
    "            elem.append(self.queue[index])\n",
    "\n",
    "            if index == self.rear:\n",
    "                break\n",
    "\n",
    "            index = (index + 1) % self.size\n",
    "\n",
    "        return print(\"queue:\",elem)\n",
    "\n",
    "circularQueue = CircularQueue(5)\n",
    "\n",
    "circularQueue.enqueue(10)\n",
    "circularQueue.enqueue(20)\n",
    "circularQueue.enqueue(30)\n",
    "circularQueue.enqueue(40)\n",
    "circularQueue.enqueue(50)\n",
    "\n",
    "circularQueue.get_queue()\n",
    "\n",
    "circularQueue.dequeue()\n",
    "circularQueue.dequeue()\n",
    "\n",
    "circularQueue.get_queue()\n",
    "\n",
    "circularQueue.enqueue(60)\n",
    "circularQueue.enqueue(70)\n",
    "\n",
    "circularQueue.get_queue()"
   ]
  },
  {
   "cell_type": "markdown",
   "metadata": {},
   "source": [
    "# Atividade 4"
   ]
  },
  {
   "cell_type": "markdown",
   "metadata": {},
   "source": [
    "### 1) Implemente através de um algoritmo o exemplo de Lista Encadeada descrito nos slides de 11 a 16."
   ]
  },
  {
   "cell_type": "code",
   "execution_count": null,
   "metadata": {},
   "outputs": [
    {
     "name": "stdout",
     "output_type": "stream",
     "text": [
      "Lista Inicial\n",
      "Anta -> Paca -> Tatu -> Cotia -> Prea -> None\n",
      "\n",
      "Removendo Anta\n",
      "Paca -> Tatu -> Cotia -> Prea -> None\n",
      "\n",
      "Adicionando Leao\n",
      "Leao -> Paca -> Tatu -> Cotia -> Prea -> None\n",
      "\n",
      "Removendo o registro 5\n",
      "Leao -> Paca -> Tatu -> Cotia -> None\n",
      "\n",
      "Removendo o Tatu\n",
      "Leao -> Paca -> Cotia -> None\n"
     ]
    }
   ],
   "source": [
    "class Node:\n",
    "    def __init__(self, value):\n",
    "        self.value = value\n",
    "        self.next = None\n",
    "        pass\n",
    "\n",
    "class LinkedList:\n",
    "    def __init__(self):\n",
    "        self.head = None\n",
    "\n",
    "    def add_to_front(self, value):\n",
    "        new_node = Node(value)\n",
    "\n",
    "        if self.head:\n",
    "            new_node.next = self.head\n",
    "\n",
    "        self.head = new_node\n",
    "\n",
    "    def add_to_back(self, value):\n",
    "        new_node = Node(value)\n",
    "\n",
    "        if self.head is None:\n",
    "            self.head = new_node\n",
    "            return\n",
    "        \n",
    "        current_node = self.head\n",
    "        while (current_node.next):\n",
    "            current_node = current_node.next\n",
    "\n",
    "        current_node.next = new_node\n",
    "\n",
    "    def remove_from_front(self):\n",
    "        if self.head is None:\n",
    "            return\n",
    "        else:\n",
    "            self.head = self.head.next\n",
    "\n",
    "    def remove_with_index(self, index):\n",
    "        if self.head is None:\n",
    "            return\n",
    "        \n",
    "        if index == 0:\n",
    "            self.remove_from_front()\n",
    "        else:\n",
    "            position = 0\n",
    "            current_node = self.head\n",
    "\n",
    "            while current_node and position < index - 1:\n",
    "                position += 1\n",
    "                current_node = current_node.next\n",
    "\n",
    "            if current_node is None or current_node.next is None:\n",
    "                return print(\"index out\")\n",
    "            \n",
    "            current_node.next = current_node.next.next\n",
    "\n",
    "    def remove_with_value(self, value):\n",
    "        current_node = self.head\n",
    "\n",
    "        if current_node.value == value:\n",
    "            self.remove_from_front()\n",
    "            return\n",
    "        \n",
    "        while current_node and current_node.next.value != value:\n",
    "            current_node = current_node.next\n",
    "\n",
    "        if current_node:\n",
    "            current_node.next = current_node.next.next\n",
    "\n",
    "    def display(self):\n",
    "        temp = self.head\n",
    "    \n",
    "        while temp:\n",
    "            print(temp.value, end=\" -> \")\n",
    "            temp = temp.next\n",
    "    \n",
    "        print(\"None\")\n",
    "\n",
    "linkedList = LinkedList()\n",
    "\n",
    "linkedList.add_to_back(\"Anta\")\n",
    "linkedList.add_to_back(\"Paca\")\n",
    "linkedList.add_to_back(\"Tatu\")\n",
    "linkedList.add_to_back(\"Cotia\")\n",
    "linkedList.add_to_back(\"Prea\")\n",
    "\n",
    "print(\"Lista Inicial\")\n",
    "linkedList.display()\n",
    "\n",
    "print(\"\\nRemovendo Anta\")\n",
    "linkedList.remove_from_front() \n",
    "\n",
    "linkedList.display()\n",
    "\n",
    "print(\"\\nAdicionando Leao\")\n",
    "linkedList.add_to_front(\"Leao\") \n",
    "\n",
    "linkedList.display()\n",
    "\n",
    "print(\"\\nRemovendo o registro 5\")\n",
    "linkedList.remove_with_index(4) \n",
    "\n",
    "linkedList.display()\n",
    "\n",
    "print(\"\\nRemovendo o Tatu\")\n",
    "linkedList.remove_with_value(\"Tatu\")\n",
    "\n",
    "linkedList.display()"
   ]
  },
  {
   "cell_type": "code",
   "execution_count": null,
   "metadata": {},
   "outputs": [],
   "source": []
  }
 ],
 "metadata": {
  "kernelspec": {
   "display_name": "Python 3",
   "language": "python",
   "name": "python3"
  },
  "language_info": {
   "codemirror_mode": {
    "name": "ipython",
    "version": 3
   },
   "file_extension": ".py",
   "mimetype": "text/x-python",
   "name": "python",
   "nbconvert_exporter": "python",
   "pygments_lexer": "ipython3",
   "version": "3.13.2"
  }
 },
 "nbformat": 4,
 "nbformat_minor": 2
}
