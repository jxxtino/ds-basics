{
 "cells": [
  {
   "cell_type": "code",
   "execution_count": 2,
   "metadata": {},
   "outputs": [],
   "source": [
    "import pandas as pd\n",
    "import openpyxl\n",
    "import lxml"
   ]
  },
  {
   "cell_type": "markdown",
   "metadata": {},
   "source": [
    "## .Series()"
   ]
  },
  {
   "cell_type": "code",
   "execution_count": null,
   "metadata": {},
   "outputs": [],
   "source": [
    "## python list doesn't have as many attributes as pd.Series(), exmp: Mean, Var, Median..\n",
    "age = [23,23,44,23,63,12,53,24,12]\n",
    "\n",
    "## converting List to Series\n",
    "age_series = pd.Series(age) # Y axis\n",
    "\n",
    "age_mean = age_series.mean()            # attribute from Series()\n",
    "age_median = age_series.var()           # attribute from Series()\n",
    "age_describe = age_series.describe()    # attribute from Series()"
   ]
  },
  {
   "cell_type": "markdown",
   "metadata": {},
   "source": [
    "## iLoc & Loc"
   ]
  },
  {
   "cell_type": "code",
   "execution_count": null,
   "metadata": {},
   "outputs": [],
   "source": [
    "age_series[0]            ## = 23 [n]: search by INDEX        | ORDER DOESN'T MATTERS\n",
    "age_series.iloc[0]       ## = 23 iloc[n]: search by POSITION | ORDER MATTERS\n",
    "\n",
    "# .. but if we sort the list\n",
    "age_series = age_series.sort_values()\n",
    "\n",
    "age_series[0]            ## = 23 [n]: search by INDEX\n",
    "age_series.iloc[0]       ## = 12 iloc[n]: search by POSITION and now this list are SORTED"
   ]
  },
  {
   "cell_type": "code",
   "execution_count": null,
   "metadata": {},
   "outputs": [],
   "source": [
    "age = [23,23,44,23,63,12,53,24,12,23]\n",
    "names= [\"John\",\"Mark\",\"Beta\",\"Ded\",\"Pop\",\"Link\",\"Pep\",\"Ronald\",\"Lin\",\"Wiu\"]\n",
    "\n",
    "# creating a Series, where the ages are linked with index (names)\n",
    "series_age = pd.Series(age, index=names)\n",
    "\n",
    "# searching first value\n",
    "series_age[\"John\"] ## = 23 [n]: search by index[\"NAME\"]\n",
    "series_age.iloc[0] ## = 23 [n]: search by position\n"
   ]
  },
  {
   "cell_type": "markdown",
   "metadata": {},
   "source": [
    "## .DataFrame"
   ]
  },
  {
   "cell_type": "code",
   "execution_count": null,
   "metadata": {},
   "outputs": [],
   "source": [
    "age_series = pd.Series(age)     ## item\n",
    "name_series = pd.Series(names)  ## item\n",
    "\n",
    "df = pd.DataFrame() ## collection of item\n",
    "\n",
    "df[\"age\"] = age_series   ## creating collection[\"age\"] as value age_series\n",
    "df[\"name\"] = name_series ## creating collection[\"age\"] as value name_series\n",
    "\n",
    "df[\"age\"]   ## returns Series(name)\n",
    "df.iloc[0]  ## retturn Series() | where indexs = df columns\n",
    "\n",
    "## searching the name from the first person\n",
    "df.iloc[0][\"name\"]\n",
    "\n",
    "## getting the age from the last person\n",
    "df.iloc[-1][\"age\"]"
   ]
  },
  {
   "cell_type": "code",
   "execution_count": null,
   "metadata": {},
   "outputs": [],
   "source": [
    "df_clients = pd.read_csv(\"../../data/data-tmw/clientes.csv\")\n",
    "\n",
    "# SAMPLES\n",
    "df_clients.head()               # display 5 (default) first rows   | usefull for large datasets\n",
    "df_clients.tail()               # display 5 (default) last rows    | usefull for large datasets\n",
    "df_clients.sample(5)            # display 5 (default) random rows  | usefull for large datasets\n",
    "\n",
    "df_clients.shape                # returns (rows, cols)\n",
    "df_clients.columns              # returns all columns name\n",
    "df_clients.index                # returns index informations, like start, stop and step\n",
    "\n",
    "df_clients.info()               # return Columns, Non-Null Count, Type and memory usage\n",
    "\n",
    "df_clients.dtypes               # return a Series(), with cols as indexs, and type as values\n",
    "df_clients.dtypes[\"flEmail\"]    # acessing index: \"flEmail\" and getting his value"
   ]
  },
  {
   "cell_type": "code",
   "execution_count": null,
   "metadata": {},
   "outputs": [],
   "source": [
    "df_transacoes = pd.read_csv(\"../../data/data-tmw/transacoes.csv\")\n",
    "\n",
    "type(df_transacoes)\n",
    "\n",
    "df_transacoes.shape                                         # num rows,cols\n",
    "df_transacoes.columns                                       # cols name\n",
    "\n",
    "renamed_columns = {\n",
    "            \"qtdePontos\": \"qtPontos\", \n",
    "            \"descSistemaOrigem\": \"SistemaOrigem\"\n",
    "}\n",
    "\n",
    "df_transacoes.rename(columns=renamed_columns, inplace=True) ## rename columns"
   ]
  },
  {
   "cell_type": "code",
   "execution_count": null,
   "metadata": {},
   "outputs": [],
   "source": [
    "df_transacoes[\"idCliente\"]                  # returns a Series()\n",
    "df_transacoes[[\"idCliente\"]]                # returns a DF\n",
    "\n",
    "df_transacoes[[\"idCliente\", \"qtPontos\"]]    # returns a DF with specified cols\n",
    "\n",
    "# A-Z cols sorting\n",
    "cols = df_transacoes.columns.tolist()       # creating all cols name list \n",
    "cols.sort()                                 # sorting cols name\n",
    "df_transacoes[cols]                         # DF[{cols}]"
   ]
  },
  {
   "cell_type": "markdown",
   "metadata": {},
   "source": [
    "## Importing Data"
   ]
  },
  {
   "cell_type": "code",
   "execution_count": null,
   "metadata": {},
   "outputs": [],
   "source": [
    "df = pd.read_csv(\"../../data/data-tmw/clientes.csv\") ## creating DF from csv\n",
    "\n",
    "df.to_excel(\"data/clients.xlsx\", index=False) ## converting csv to xlsx (excel)"
   ]
  },
  {
   "cell_type": "code",
   "execution_count": null,
   "metadata": {},
   "outputs": [],
   "source": [
    "df_clipboard = pd.read_clipboard( ) # creating DF from clipboard, usefull for quick tests\n",
    "df_html = pd.read_html(\"https://pt.wikipedia.org/wiki/Unidades_federativas_do_Brasil\") # creating DF from HTML page\n",
    "\n",
    "df_html = df_html[1] # this df has all tables from url, selecting the correct\n",
    "\n",
    "df_html.to_csv(\"data/ufs_data.csv\", index=False) # converting to csv file\n"
   ]
  },
  {
   "cell_type": "markdown",
   "metadata": {},
   "source": [
    "## Filter"
   ]
  },
  {
   "cell_type": "code",
   "execution_count": null,
   "metadata": {},
   "outputs": [],
   "source": [
    "\n",
    "example_df = pd.DataFrame({\n",
    "    \"name\": [\"A\", \"B\", \"C\"],\n",
    "    \"age\": [12,15,45],\n",
    "    \"h\": [1.32,1.56,1.67]\n",
    "    })\n",
    "\n",
    "# filtering DF[\"age\"] where <= 15\n",
    "filter = example_df[\"age\"] <= 15 ## filter is now a pd.Series() of bool values\n",
    "\n",
    "# returning entire DF WHERE \"age\" <= 15\n",
    "example_df[filter] # "
   ]
  },
  {
   "cell_type": "code",
   "execution_count": null,
   "metadata": {},
   "outputs": [],
   "source": [
    "df = pd.read_csv(\"../../data/data-tmw/transacoes.csv\")\n",
    "df.sample(5) ## return 5 random rows\n",
    "\n",
    "# simple \"AND\" filter\n",
    "filter = df[\"qtdePontos\"] >= 50\n",
    "df[filter]\n",
    "\n",
    "# double \"AND\" filter\n",
    "filter = (df[\"qtdePontos\"] >= 50) & (df[\"qtdePontos\"] < 100)\n",
    "df[filter]\n",
    "\n",
    "# double \"OR\" filter\n",
    "filter = (df[\"qtdePontos\"] == 100) | (df[\"qtdePontos\"] == 1)\n",
    "df[filter]"
   ]
  },
  {
   "cell_type": "code",
   "execution_count": null,
   "metadata": {},
   "outputs": [],
   "source": [
    "df = pd.read_csv(\"../../data/data-tmw/transacao_produto.csv\")\n",
    "\n",
    "df.sample(2)\n",
    "\n",
    "# basic way\n",
    "filter = (df[\"idProduto\"] == 5) | (df[\"idProduto\"] == 11)\n",
    "df[filter]\n",
    "\n",
    "# better way\n",
    "filter = df[\"idProduto\"].isin([5, 11]) # isin() returns a pd.Series() of bool\n",
    "df[filter]"
   ]
  },
  {
   "cell_type": "code",
   "execution_count": 3,
   "metadata": {},
   "outputs": [
    {
     "data": {
      "text/plain": [
       "0       False\n",
       "1       False\n",
       "2       False\n",
       "3        True\n",
       "4       False\n",
       "        ...  \n",
       "2431    False\n",
       "2432     True\n",
       "2433    False\n",
       "2434     True\n",
       "2435    False\n",
       "Name: dtCriacao, Length: 2436, dtype: bool"
      ]
     },
     "execution_count": 3,
     "metadata": {},
     "output_type": "execute_result"
    }
   ],
   "source": [
    "df = pd.read_csv(\"../../data/data-tmw/clientes.csv\")\n",
    "\n",
    "df.sample(2)\n",
    "\n",
    "# detecting existing (non-missing) values.\n",
    "filter = df[\"dtCriacao\"].isna() # creates a pd.Series() of bool\n",
    "df[filter]\n",
    "\n",
    "# \" ~ \" is like NOT, on this example, return \n",
    "~df[\"dtCriacao\"].isna() # creates a pd.Series() of bool\n"
   ]
  },
  {
   "cell_type": "code",
   "execution_count": null,
   "metadata": {},
   "outputs": [],
   "source": []
  }
 ],
 "metadata": {
  "kernelspec": {
   "display_name": "Python 3",
   "language": "python",
   "name": "python3"
  },
  "language_info": {
   "codemirror_mode": {
    "name": "ipython",
    "version": 3
   },
   "file_extension": ".py",
   "mimetype": "text/x-python",
   "name": "python",
   "nbconvert_exporter": "python",
   "pygments_lexer": "ipython3",
   "version": "3.13.2"
  }
 },
 "nbformat": 4,
 "nbformat_minor": 2
}
