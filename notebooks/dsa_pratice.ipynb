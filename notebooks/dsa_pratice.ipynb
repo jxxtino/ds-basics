{
 "cells": [
  {
   "cell_type": "markdown",
   "metadata": {},
   "source": [
    "# Fibonacci Using Recursion\n"
   ]
  },
  {
   "cell_type": "code",
   "execution_count": null,
   "metadata": {},
   "outputs": [],
   "source": [
    "counter = 0\n",
    "\n",
    "def fibonacci(value1, value2):\n",
    "    global counter\n",
    "    \n",
    "    nextFibo = value1 + value2\n",
    "    print(nextFibo)\n",
    "\n",
    "    value1 = value2\n",
    "    value2 = nextFibo\n",
    "\n",
    "    counter += 1\n",
    "\n",
    "    fibonacci(value1, value2)"
   ]
  },
  {
   "cell_type": "markdown",
   "metadata": {},
   "source": [
    "# Fibonacci Using For Loop"
   ]
  },
  {
   "cell_type": "code",
   "execution_count": null,
   "metadata": {},
   "outputs": [],
   "source": [
    "value1 = 0\n",
    "value2 = 1\n",
    "\n",
    "for i in range(10):\n",
    "    nextFibo = value1 + value2\n",
    "    \n",
    "    # print(nextFibo)\n",
    "\n",
    "    value1 = value2\n",
    "    value2 = nextFibo\n"
   ]
  },
  {
   "cell_type": "markdown",
   "metadata": {},
   "source": [
    "# Fibonacci Using Nth Fibonacci Number (w recusion)\n"
   ]
  },
  {
   "cell_type": "code",
   "execution_count": null,
   "metadata": {},
   "outputs": [],
   "source": [
    "def F(n):\n",
    "    if n <= 1:\n",
    "        return n\n",
    "    else:\n",
    "        return F(n-1)+F(n-2)\n",
    "\n",
    "# print(F(4))\n",
    "\n",
    "# Recursion Tree:\n",
    "    # F(4)\n",
    "    \n",
    "    # ├── F(3)\n",
    "    # │   ├── F(2)\n",
    "    # │   │   ├── F(1) → 1\n",
    "    # │   │   ├── F(0) → 0\n",
    "    # │   │   └── (F(2) = 1)\n",
    "    # │   ├── F(1) → 1\n",
    "    # │   └── (F(3) = 2)\n",
    "    \n",
    "    # ├── F(2)\n",
    "    # │   ├── F(1) → 1\n",
    "    # │   ├── F(0) → 0\n",
    "    # │   └── (F(2) = 1)\n",
    "    "
   ]
  },
  {
   "cell_type": "markdown",
   "metadata": {},
   "source": [
    "# Find The Lowest Value in an Array"
   ]
  },
  {
   "cell_type": "code",
   "execution_count": null,
   "metadata": {},
   "outputs": [],
   "source": [
    "array = [5,4,5,4,8,3,3,5]\n",
    "minVal = array[0]\n",
    "\n",
    "for i in array:\n",
    "    if i < minVal:\n",
    "        minVal = i\n"
   ]
  },
  {
   "cell_type": "markdown",
   "metadata": {},
   "source": [
    "# Queue using Array"
   ]
  },
  {
   "cell_type": "code",
   "execution_count": null,
   "metadata": {},
   "outputs": [],
   "source": [
    "class Queue:\n",
    "    def __init__(self):\n",
    "        self.queue = []\n",
    "\n",
    "    def enqueue(self,element):\n",
    "        self.queue.append(element)\n",
    "\n",
    "    def dequeue(self):\n",
    "        if self.isEmpty():\n",
    "            return \"Queue is empty\"\n",
    "        else:\n",
    "            self.queue.pop(0)\n",
    "\n",
    "    def peek(self):\n",
    "        if self.isEmpty():\n",
    "            return \"Queue is empty\"\n",
    "        else:\n",
    "            return self.queue[0]\n",
    "        \n",
    "    def isEmpty(self):\n",
    "        return len(self.queue) == 0\n",
    "    \n",
    "    def size(self):\n",
    "        return len(self.queue)\n",
    "    \n",
    "myQueue = Queue()"
   ]
  },
  {
   "cell_type": "markdown",
   "metadata": {},
   "source": [
    "---"
   ]
  },
  {
   "cell_type": "markdown",
   "metadata": {},
   "source": [
    "# Arrays"
   ]
  },
  {
   "cell_type": "markdown",
   "metadata": {},
   "source": [
    "## Two Pointer"
   ]
  },
  {
   "cell_type": "code",
   "execution_count": null,
   "metadata": {},
   "outputs": [],
   "source": [
    "## \"summer house\"\n",
    "\n",
    "class TwoPointer:\n",
    "    def reversedWords(self,string):\n",
    "        reversed_string = \"\"\n",
    "        left_pointer, right_pointer = 0, 0\n",
    "\n",
    "        while right_pointer < len(string):\n",
    "            if string[right_pointer] != \" \":\n",
    "                right_pointer += 1\n",
    "\n",
    "            else:\n",
    "                reversed_string += string[left_pointer:right_pointer+1][::-1]\n",
    "\n",
    "                right_pointer += 1\n",
    "                left_pointer = right_pointer\n",
    "\n",
    "        reversed_string += \" \"\n",
    "        reversed_string += string[left_pointer:right_pointer][::-1]\n",
    "        return reversed_string[1:]\n",
    "\n",
    "twopointer = TwoPointer()\n",
    "twopointer.reversedWords(\"summer eletrohits\")"
   ]
  },
  {
   "cell_type": "markdown",
   "metadata": {},
   "source": [
    "## Binary Search"
   ]
  },
  {
   "cell_type": "code",
   "execution_count": null,
   "metadata": {},
   "outputs": [],
   "source": [
    "def binary_search(nums, n):\n",
    "    lo = 0          ## begin (lowest value)\n",
    "    hi = len(nums)  ## end (highest)\n",
    "    steps = 0       \n",
    "\n",
    "    while lo < hi:\n",
    "        steps+=1\n",
    "\n",
    "        mid = int((lo+hi)/2)\n",
    "\n",
    "        if nums[mid] == n:\n",
    "            print(f\"steps: {steps}\")\n",
    "            return\n",
    "        \n",
    "        elif nums[mid] < n: ## if n is higher than mid, begin = mid + 1\n",
    "            lo = mid + 1 \n",
    "        \n",
    "        else:               ## if is lowest, end = mid\n",
    "            hi = mid\n",
    "\n",
    "nums = [1,2,3,4,5,6,7,8,9,10,11]\n",
    "\n",
    "binary_search(nums,3)    "
   ]
  },
  {
   "cell_type": "markdown",
   "metadata": {},
   "source": [
    "## Sliding Window"
   ]
  },
  {
   "cell_type": "code",
   "execution_count": null,
   "metadata": {},
   "outputs": [],
   "source": [
    "def sliding_window(s:str):\n",
    "    l,r = 0,0\n",
    "\n",
    "    _max = 1\n",
    "\n",
    "    counter = {}\n",
    "    counter[s[0]] = 1\n",
    "\n",
    "    while r < len(s) -1:\n",
    "        print(counter,l,r)\n",
    "        r += 1\n",
    "\n",
    "        if counter.get(s[r]):\n",
    "            counter[s[r]] += 1\n",
    "        \n",
    "        else:\n",
    "            counter[s[r]] = 1\n",
    "        \n",
    "        while counter[s[r]] == 3:\n",
    "            counter[s[l]] -= 1\n",
    "            l += 1\n",
    "        \n",
    "        _max = max(_max,r-l+1)\n",
    "\n",
    "    return _max\n",
    "\n",
    "sliding_window(\"BCBBBCBA\")"
   ]
  }
 ],
 "metadata": {
  "kernelspec": {
   "display_name": "Python 3",
   "language": "python",
   "name": "python3"
  },
  "language_info": {
   "codemirror_mode": {
    "name": "ipython",
    "version": 3
   },
   "file_extension": ".py",
   "mimetype": "text/x-python",
   "name": "python",
   "nbconvert_exporter": "python",
   "pygments_lexer": "ipython3",
   "version": "3.12.4"
  }
 },
 "nbformat": 4,
 "nbformat_minor": 2
}
