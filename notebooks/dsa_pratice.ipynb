{
 "cells": [
  {
   "cell_type": "markdown",
   "metadata": {},
   "source": [
    "# Fibonacci Using Recursion\n"
   ]
  },
  {
   "cell_type": "code",
   "execution_count": 9,
   "metadata": {},
   "outputs": [],
   "source": [
    "counter = 0\n",
    "\n",
    "def fibonacci(value1, value2):\n",
    "    global counter\n",
    "    \n",
    "    nextFibo = value1 + value2\n",
    "    print(nextFibo)\n",
    "\n",
    "    value1 = value2\n",
    "    value2 = nextFibo\n",
    "\n",
    "    counter += 1\n",
    "\n",
    "    fibonacci(value1, value2)"
   ]
  },
  {
   "cell_type": "markdown",
   "metadata": {},
   "source": [
    "# Fibonacci Using For Loop"
   ]
  },
  {
   "cell_type": "code",
   "execution_count": 1,
   "metadata": {},
   "outputs": [],
   "source": [
    "value1 = 0\n",
    "value2 = 1\n",
    "\n",
    "for i in range(10):\n",
    "    nextFibo = value1 + value2\n",
    "    \n",
    "    # print(nextFibo)\n",
    "\n",
    "    value1 = value2\n",
    "    value2 = nextFibo\n"
   ]
  },
  {
   "cell_type": "markdown",
   "metadata": {},
   "source": [
    "# Fibonacci Using Nth Fibonacci Number (w recusion)\n"
   ]
  },
  {
   "cell_type": "code",
   "execution_count": 2,
   "metadata": {},
   "outputs": [],
   "source": [
    "def F(n):\n",
    "    if n <= 1:\n",
    "        return n\n",
    "    else:\n",
    "        return F(n-1)+F(n-2)\n",
    "\n",
    "# print(F(4))\n",
    "\n",
    "# Recursion Tree:\n",
    "    # F(4)\n",
    "    \n",
    "    # ├── F(3)\n",
    "    # │   ├── F(2)\n",
    "    # │   │   ├── F(1) → 1\n",
    "    # │   │   ├── F(0) → 0\n",
    "    # │   │   └── (F(2) = 1)\n",
    "    # │   ├── F(1) → 1\n",
    "    # │   └── (F(3) = 2)\n",
    "    \n",
    "    # ├── F(2)\n",
    "    # │   ├── F(1) → 1\n",
    "    # │   ├── F(0) → 0\n",
    "    # │   └── (F(2) = 1)\n",
    "    "
   ]
  },
  {
   "cell_type": "markdown",
   "metadata": {},
   "source": [
    "# Find The Lowest Value in an Array"
   ]
  },
  {
   "cell_type": "code",
   "execution_count": 3,
   "metadata": {},
   "outputs": [],
   "source": [
    "array = [5,4,5,4,8,3,3,5]\n",
    "minVal = array[0]\n",
    "\n",
    "for i in array:\n",
    "    if i < minVal:\n",
    "        minVal = i\n"
   ]
  },
  {
   "cell_type": "markdown",
   "metadata": {},
   "source": [
    "# Queue using Array"
   ]
  },
  {
   "cell_type": "code",
   "execution_count": 4,
   "metadata": {},
   "outputs": [],
   "source": [
    "class Queue:\n",
    "    def __init__(self):\n",
    "        self.queue = []\n",
    "\n",
    "    def enqueue(self,element):\n",
    "        self.queue.append(element)\n",
    "\n",
    "    def dequeue(self):\n",
    "        if self.isEmpty():\n",
    "            return \"Queue is empty\"\n",
    "        else:\n",
    "            self.queue.pop(0)\n",
    "\n",
    "    def peek(self):\n",
    "        if self.isEmpty():\n",
    "            return \"Queue is empty\"\n",
    "        else:\n",
    "            return self.queue[0]\n",
    "        \n",
    "    def isEmpty(self):\n",
    "        return len(self.queue) == 0\n",
    "    \n",
    "    def size(self):\n",
    "        return len(self.queue)\n",
    "    \n",
    "myQueue = Queue()"
   ]
  },
  {
   "cell_type": "markdown",
   "metadata": {},
   "source": [
    "---"
   ]
  },
  {
   "cell_type": "markdown",
   "metadata": {},
   "source": [
    "# Arrays"
   ]
  },
  {
   "cell_type": "markdown",
   "metadata": {},
   "source": [
    "## Two Pointer"
   ]
  },
  {
   "cell_type": "code",
   "execution_count": 14,
   "metadata": {},
   "outputs": [
    {
     "data": {
      "text/plain": [
       "'remmus stihortele'"
      ]
     },
     "execution_count": 14,
     "metadata": {},
     "output_type": "execute_result"
    }
   ],
   "source": [
    "## \"summer house\"\n",
    "\n",
    "class TwoPointer:\n",
    "    def reversedWords(self,string):\n",
    "        reversed_string = \"\"\n",
    "        left_pointer, right_pointer = 0, 0\n",
    "\n",
    "        while right_pointer < len(string):\n",
    "            if string[right_pointer] != \" \":\n",
    "                right_pointer += 1\n",
    "\n",
    "            else:\n",
    "                reversed_string += string[left_pointer:right_pointer+1][::-1]\n",
    "\n",
    "                right_pointer += 1\n",
    "                left_pointer = right_pointer\n",
    "\n",
    "        reversed_string += \" \"\n",
    "        reversed_string += string[left_pointer:right_pointer][::-1]\n",
    "        return reversed_string[1:]\n",
    "\n",
    "twopointer = TwoPointer()\n",
    "twopointer.reversedWords(\"summer eletrohits\")"
   ]
  },
  {
   "cell_type": "markdown",
   "metadata": {},
   "source": [
    "## Binary Tree"
   ]
  },
  {
   "cell_type": "code",
   "execution_count": 17,
   "metadata": {},
   "outputs": [],
   "source": [
    "class Node:\n",
    "    def __init__(self, data):\n",
    "        self.data = data\n",
    "        self.left = None\n",
    "        self.right = None\n",
    "\n",
    "class BinaryTree:\n",
    "    def __init__(self):\n",
    "        self.root = None\n",
    "\n",
    "    def insert(self, value):\n",
    "        if self.root is None:\n",
    "            self.root = Node(value)\n",
    "        else:\n",
    "            self._insert_recursive(self.root, value)\n",
    "\n",
    "    def _insert_recursive(self, node, value):\n",
    "        if value < node.data:\n",
    "            if node.left is None:\n",
    "                node.left = Node(value)\n",
    "            else:\n",
    "                self._insert_recursive(node.left, value)\n",
    "        elif value > node.data:\n",
    "            if node.right is None:\n",
    "                node.right = Node(value)\n",
    "            else:\n",
    "                self._insert_recursive(node.right, value)\n",
    "\n",
    "    def search(self, value):\n",
    "        return self._search_recursive(self.root, value)\n",
    "    \n",
    "    def _search_recursive(self, node, value):\n",
    "        if node is None:\n",
    "            return False\n",
    "        if node.data == value:\n",
    "            return True\n",
    "        elif value < node.data:\n",
    "            return self._search_recursive(node.left, value)\n",
    "        else:\n",
    "            return self._search_recursive(node.right, value)"
   ]
  },
  {
   "cell_type": "markdown",
   "metadata": {},
   "source": [
    "## Binary Tree Traversals"
   ]
  },
  {
   "cell_type": "code",
   "execution_count": 3,
   "metadata": {},
   "outputs": [
    {
     "name": "stdout",
     "output_type": "stream",
     "text": [
      "True\n",
      "False\n",
      "True\n",
      "True\n",
      "Preorder Traversal: [10, 5, 3, 7, 15, 12, 18]\n"
     ]
    }
   ],
   "source": [
    "class Node:\n",
    "    def __init__(self, data):\n",
    "        self.data = data\n",
    "        self.left = None\n",
    "        self.right = None\n",
    "\n",
    "class BinaryTree:\n",
    "    def __init__(self):\n",
    "        self.root = None\n",
    "\n",
    "    def insert(self, value):\n",
    "        if self.root is None:\n",
    "            self.root = Node(value)\n",
    "        else:\n",
    "            self._insert_recursive(self.root, value)\n",
    "\n",
    "    def _insert_recursive(self, node, value):\n",
    "        if value < node.data:\n",
    "            if node.left is None:\n",
    "                node.left = Node(value)\n",
    "            else:\n",
    "                self._insert_recursive(node.left, value)\n",
    "        elif value > node.data:\n",
    "            if node.right is None:\n",
    "                node.right = Node(value)\n",
    "            else:\n",
    "                self._insert_recursive(node.right, value)\n",
    "\n",
    "    def search(self, value):\n",
    "        return self._search_recursive(self.root, value)\n",
    "    \n",
    "    def _search_recursive(self, node, value):\n",
    "        if node is None:\n",
    "            return False\n",
    "        if node.data == value:\n",
    "            return True\n",
    "        elif value < node.data:\n",
    "            return self._search_recursive(node.left, value)\n",
    "        else:\n",
    "            return self._search_recursive(node.right, value)\n",
    "        \n",
    "    def preorder_traversal(self):\n",
    "        result = []\n",
    "        self._preorder_recursive(self.root, result)\n",
    "        return result\n",
    "    \n",
    "    def _preorder_recursive(self, node, result):\n",
    "        if node:\n",
    "            result.append(node.data)\n",
    "            self._preorder_recursive(node.left, result)\n",
    "            self._preorder_recursive(node.right, result)\n",
    "\n",
    "\n",
    "tree = BinaryTree()\n",
    "values_to_insert = [10, 5, 15, 3, 7, 12, 18]\n",
    "for val in values_to_insert:\n",
    "    tree.insert(val)\n",
    "\n",
    "print(tree.search(7))\n",
    "print(tree.search(14))\n",
    "print(tree.search(10))\n",
    "print(tree.search(18))\n",
    "\n",
    "print(\"Preorder Traversal:\", tree.preorder_traversal())\n"
   ]
  },
  {
   "cell_type": "markdown",
   "metadata": {},
   "source": [
    "## Binary Search"
   ]
  },
  {
   "cell_type": "code",
   "execution_count": 6,
   "metadata": {},
   "outputs": [
    {
     "name": "stdout",
     "output_type": "stream",
     "text": [
      "steps: 2\n"
     ]
    }
   ],
   "source": [
    "def binary_search(nums, n):\n",
    "    lo = 0          ## begin (lowest value)\n",
    "    hi = len(nums)  ## end (highest)\n",
    "    steps = 0       \n",
    "\n",
    "    while lo < hi:\n",
    "        steps+=1\n",
    "\n",
    "        mid = int((lo+hi)/2)\n",
    "\n",
    "        if nums[mid] == n:\n",
    "            print(f\"steps: {steps}\")\n",
    "            return\n",
    "        \n",
    "        elif nums[mid] < n: ## if n is higher than mid, begin = mid + 1\n",
    "            lo = mid + 1 \n",
    "        \n",
    "        else:               ## if is lowest, end = mid\n",
    "            hi = mid\n",
    "\n",
    "nums = [1,2,3,4,5,6,7,8,9,10,11]\n",
    "\n",
    "binary_search(nums,3)    "
   ]
  },
  {
   "cell_type": "markdown",
   "metadata": {},
   "source": [
    "## Sliding Window"
   ]
  },
  {
   "cell_type": "code",
   "execution_count": 7,
   "metadata": {},
   "outputs": [
    {
     "name": "stdout",
     "output_type": "stream",
     "text": [
      "{'B': 1} 0 0\n",
      "{'B': 1, 'C': 1} 0 1\n",
      "{'B': 2, 'C': 1} 0 2\n",
      "{'B': 2, 'C': 1} 1 3\n",
      "{'B': 2, 'C': 0} 3 4\n",
      "{'B': 2, 'C': 1} 3 5\n",
      "{'B': 2, 'C': 1} 4 6\n"
     ]
    },
    {
     "data": {
      "text/plain": [
       "4"
      ]
     },
     "execution_count": 7,
     "metadata": {},
     "output_type": "execute_result"
    }
   ],
   "source": [
    "def sliding_window(s:str):\n",
    "    l,r = 0,0\n",
    "\n",
    "    _max = 1\n",
    "\n",
    "    counter = {}\n",
    "    counter[s[0]] = 1\n",
    "\n",
    "    while r < len(s) -1:\n",
    "        print(counter,l,r)\n",
    "        r += 1\n",
    "\n",
    "        if counter.get(s[r]):\n",
    "            counter[s[r]] += 1\n",
    "        \n",
    "        else:\n",
    "            counter[s[r]] = 1\n",
    "        \n",
    "        while counter[s[r]] == 3:\n",
    "            counter[s[l]] -= 1\n",
    "            l += 1\n",
    "        \n",
    "        _max = max(_max,r-l+1)\n",
    "\n",
    "    return _max\n",
    "\n",
    "sliding_window(\"BCBBBCBA\")"
   ]
  },
  {
   "cell_type": "markdown",
   "metadata": {},
   "source": [
    "# Linked List"
   ]
  },
  {
   "cell_type": "code",
   "execution_count": 31,
   "metadata": {},
   "outputs": [
    {
     "name": "stdout",
     "output_type": "stream",
     "text": [
      "Anta -> Paca -> Tatu -> Cotia -> Prea -> None\n",
      "Paca -> Tatu -> Cotia -> Prea -> None\n",
      "Leao -> Paca -> Tatu -> Cotia -> Prea -> None\n",
      "Leao -> Paca -> Tatu -> Cotia -> None\n",
      "Leao -> Paca -> Cotia -> None\n"
     ]
    }
   ],
   "source": [
    "class Node:\n",
    "    def __init__(self, value):\n",
    "        self.value = value\n",
    "        self.next = None\n",
    "        pass\n",
    "\n",
    "class LinkedList:\n",
    "    def __init__(self):\n",
    "        self.head = None\n",
    "\n",
    "    def add_to_front(self, value):\n",
    "        new_node = Node(value)\n",
    "\n",
    "        if self.head:\n",
    "            new_node.next = self.head\n",
    "\n",
    "        self.head = new_node\n",
    "\n",
    "    def add_to_back(self, value):\n",
    "        new_node = Node(value)\n",
    "\n",
    "        if self.head is None:\n",
    "            self.head = new_node\n",
    "            return\n",
    "        \n",
    "        current_node = self.head\n",
    "        while (current_node.next):\n",
    "            current_node = current_node.next\n",
    "\n",
    "        current_node.next = new_node\n",
    "\n",
    "    def remove_from_front(self):\n",
    "        if self.head is None:\n",
    "            return\n",
    "        else:\n",
    "            self.head = self.head.next\n",
    "\n",
    "    def remove_with_index(self, index):\n",
    "        if self.head is None:\n",
    "            return\n",
    "        \n",
    "        if index == 0:\n",
    "            self.remove_from_front()\n",
    "        else:\n",
    "            position = 0\n",
    "            current_node = self.head\n",
    "\n",
    "            while current_node and position < index - 1:\n",
    "                position += 1\n",
    "                current_node = current_node.next\n",
    "\n",
    "            if current_node is None or current_node.next is None:\n",
    "                return print(\"index out\")\n",
    "            \n",
    "            current_node.next = current_node.next.next\n",
    "\n",
    "    def remove_with_value(self, value):\n",
    "        current_node = self.head\n",
    "\n",
    "        if current_node.value == value:\n",
    "            self.remove_from_front()\n",
    "            return\n",
    "        \n",
    "        while current_node and current_node.next.value != value:\n",
    "            current_node = current_node.next\n",
    "\n",
    "        if current_node:\n",
    "            current_node.next = current_node.next.next\n",
    "\n",
    "        \n",
    "\n",
    "    def display(self):\n",
    "        temp = self.head\n",
    "    \n",
    "        while temp:\n",
    "            print(temp.value, end=\" -> \")\n",
    "            temp = temp.next\n",
    "    \n",
    "        print(\"None\")\n",
    "\n",
    "a = LinkedList()\n",
    "\n",
    "a.add_to_back(\"Anta\")\n",
    "a.add_to_back(\"Paca\")\n",
    "a.add_to_back(\"Tatu\")\n",
    "a.add_to_back(\"Cotia\")\n",
    "a.add_to_back(\"Prea\")\n",
    "\n",
    "a.display()\n",
    "\n",
    "a.remove_from_front() # REMOVA ANTA\n",
    "\n",
    "a.display()\n",
    "\n",
    "a.add_to_front(\"Leao\") # INSIRA LEAO\n",
    "\n",
    "a.display()\n",
    "\n",
    "a.remove_with_index(4) # REMOVENDO O REGISTRO DA POSICAO \"5\"\n",
    "\n",
    "a.display()\n",
    "\n",
    "a.remove_with_value(\"Tatu\") # Remova Tatu\n",
    "\n",
    "a.display()"
   ]
  },
  {
   "cell_type": "markdown",
   "metadata": {},
   "source": [
    "## Double Linked List"
   ]
  },
  {
   "cell_type": "code",
   "execution_count": 8,
   "metadata": {},
   "outputs": [],
   "source": [
    "class Node():\n",
    "    def __init__(self, value):\n",
    "        self.value = value\n",
    "        self.next = None\n",
    "        self.prev = None\n",
    "\n",
    "class DoubleLinkedList():\n",
    "    def __init__(self):\n",
    "        self.head = None\n",
    "        self.tail = None\n",
    "\n",
    "    def add_to_front(self, value):\n",
    "        new_node = Node(value)\n",
    "\n",
    "        if self.head:\n",
    "            self.head.prev = new_node\n",
    "            new_node.next = self.head\n",
    "        else:\n",
    "            self.tail = new_node\n",
    "\n",
    "        self.head = new_node\n",
    "\n",
    "    def add_to_end(self, value):\n",
    "        new_node = Node(value)\n",
    "\n",
    "        if self.tail:\n",
    "            self.tail.next = new_node\n",
    "            new_node.prev = self.tail\n",
    "        else:\n",
    "            self.head = new_node\n",
    "\n",
    "        self.tail = new_node\n",
    "\n",
    "    def remove_from_front(self):\n",
    "        if not self.head:\n",
    "            return None\n",
    "        \n",
    "        removed_value = self.head.value\n",
    "        self.head = self.head.next\n",
    "\n",
    "        if self.head:\n",
    "            self.head.prev = None\n",
    "        else:\n",
    "            self.tail = None\n",
    "\n",
    "        return removed_value\n",
    "    \n",
    "    def remove_from_end(self):\n",
    "        if not self.tail:\n",
    "            return None\n",
    "        \n",
    "        removed_value = self.tail.value\n",
    "        self.tail = self.tail.prev\n",
    "\n",
    "        if self.tail:\n",
    "            self.tail.next = None\n",
    "        else:\n",
    "            self.tail = None\n",
    "\n",
    "        return removed_value"
   ]
  },
  {
   "cell_type": "markdown",
   "metadata": {},
   "source": [
    "## BubbleSort"
   ]
  },
  {
   "cell_type": "code",
   "execution_count": 5,
   "metadata": {},
   "outputs": [],
   "source": [
    "\n",
    "def bubble(nums):\n",
    "    size = len(nums)\n",
    "\n",
    "    for _ in nums:\n",
    "        is_sorted = True\n",
    "        for i in range(size-1):\n",
    "# print(f\"Comparando {nums[i]} e {nums[i+1]}\")\n",
    "            if nums[i] > nums[i+1]:\n",
    "# print(f\"-> Trocando {nums[i]} e {nums[i+1]}\")\n",
    "                is_sorted = False\n",
    "                nums[i], nums[i+1] = nums[i+1], nums[i]\n",
    "# print(nums) \n",
    "        if is_sorted:\n",
    "            return      \n"
   ]
  },
  {
   "cell_type": "markdown",
   "metadata": {},
   "source": [
    "## QuickSort"
   ]
  },
  {
   "cell_type": "code",
   "execution_count": 15,
   "metadata": {},
   "outputs": [],
   "source": [
    "def quicksort(arr, left, right):\n",
    "    if left < right:\n",
    "        pi = partition(arr, left, right)\n",
    "        quicksort(arr, left, pi-1)\n",
    "        quicksort(arr, pi+1, right)\n",
    "\n",
    "def partition(arr, left, right):\n",
    "    pivot = arr[right]\n",
    "# print(f\"\\n[Pivot]: {pivot}\")\n",
    "    i = left-1\n",
    "    \n",
    "    for j in range(left, right):\n",
    "# print(f\"Comparando {arr[j]} <= {pivot}\")\n",
    "    \n",
    "        if arr[j] <= pivot:\n",
    "            i += 1\n",
    "# print(f\"-> Trocando {arr[i]} e {arr[j]}\")\n",
    "            arr[i], arr[j] = arr[j], arr[i]\n",
    "# print(f\"-> Trocando {arr[i+1]} e {arr[right]} (colocando pivot no lugar)\")\n",
    "    \n",
    "    arr[i+1], arr[right] = arr[right], arr[i+1]\n",
    "    return i+1\n"
   ]
  }
 ],
 "metadata": {
  "kernelspec": {
   "display_name": "Python 3",
   "language": "python",
   "name": "python3"
  },
  "language_info": {
   "codemirror_mode": {
    "name": "ipython",
    "version": 3
   },
   "file_extension": ".py",
   "mimetype": "text/x-python",
   "name": "python",
   "nbconvert_exporter": "python",
   "pygments_lexer": "ipython3",
   "version": "3.11.9"
  }
 },
 "nbformat": 4,
 "nbformat_minor": 2
}
